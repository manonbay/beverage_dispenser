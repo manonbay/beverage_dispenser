{
 "cells": [
  {
   "cell_type": "markdown",
   "id": "8e0db8e5-e386-4849-81e0-add98e45e1e8",
   "metadata": {},
   "source": [
    "# 1_Import"
   ]
  },
  {
   "cell_type": "code",
   "execution_count": 1,
   "id": "121a0a0b-72a6-474c-b14a-023e6dd7ab0e",
   "metadata": {},
   "outputs": [],
   "source": [
    "import time\n",
    "import json \n",
    "import numpy as np\n",
    "import pandas as pd\n",
    "import datetime\n",
    "import matplotlib.pyplot as plt\n",
    "import matplotlib.dates as mdates\n",
    "from matplotlib.dates import DateFormatter\n",
    "import seaborn as sns"
   ]
  },
  {
   "cell_type": "code",
   "execution_count": 2,
   "id": "24bbd803-e59f-4239-b8b5-15dca92e8d9c",
   "metadata": {},
   "outputs": [],
   "source": [
    "with open(r\"C:\\Users\\manon\\Dev\\2023_boissons\\beverage_dispenser.json\") as f:\n",
    "    data = json.load(f)"
   ]
  },
  {
   "cell_type": "code",
   "execution_count": 3,
   "id": "49c9e57f-fe36-44ea-a9e3-b4a4b4d88353",
   "metadata": {},
   "outputs": [
    {
     "name": "stdout",
     "output_type": "stream",
     "text": [
      "{'date': '2019-11-14T11:53:35.000Z', 'product': 'refill', 'machine': 'A'}\n",
      "{'date': '2019-11-14T12:06:35.000Z', 'product': 'coffee', 'machine': 'A'}\n",
      "{'date': '2019-11-14T12:07:59.000Z', 'product': 'soda', 'machine': 'A'}\n",
      "{'date': '2019-11-14T12:13:45.000Z', 'product': 'soda', 'machine': 'A'}\n",
      "{'date': '2019-11-14T12:22:35.000Z', 'product': 'coffee', 'machine': 'A'}\n",
      "{'date': '2019-11-14T12:37:44.000Z', 'product': 'soda', 'machine': 'A'}\n",
      "{'date': '2019-11-14T12:47:09.000Z', 'product': 'refill', 'machine': 'B'}\n",
      "{'date': '2019-11-14T12:47:52.000Z', 'product': 'coffee', 'machine': 'A'}\n",
      "{'date': '2019-11-14T12:51:00.000Z', 'product': 'coffee', 'machine': 'A'}\n",
      "{'date': '2019-11-14T12:52:49.000Z', 'product': 'coffee', 'machine': 'A'}\n"
     ]
    }
   ],
   "source": [
    "# impression uniquement des 10 premieres lignes \n",
    "for x in data[\"content\"][:10] : \n",
    "    print (x)"
   ]
  },
  {
   "cell_type": "markdown",
   "id": "0d8bcb07-0602-424e-be17-f1980496c2dd",
   "metadata": {},
   "source": [
    "# 2_ Conversion du JSON en DataFrame"
   ]
  },
  {
   "cell_type": "code",
   "execution_count": 4,
   "id": "6e4f5eff-bc9e-4a8c-9a1d-fe4b2eebce79",
   "metadata": {},
   "outputs": [],
   "source": [
    "df_init = pd.json_normalize(data[\"content\"])"
   ]
  },
  {
   "cell_type": "code",
   "execution_count": 5,
   "id": "49d2e61c-c1ee-49ed-a7c5-6818b91f46ea",
   "metadata": {},
   "outputs": [
    {
     "data": {
      "text/html": [
       "<div>\n",
       "<style scoped>\n",
       "    .dataframe tbody tr th:only-of-type {\n",
       "        vertical-align: middle;\n",
       "    }\n",
       "\n",
       "    .dataframe tbody tr th {\n",
       "        vertical-align: top;\n",
       "    }\n",
       "\n",
       "    .dataframe thead th {\n",
       "        text-align: right;\n",
       "    }\n",
       "</style>\n",
       "<table border=\"1\" class=\"dataframe\">\n",
       "  <thead>\n",
       "    <tr style=\"text-align: right;\">\n",
       "      <th></th>\n",
       "      <th>date</th>\n",
       "      <th>product</th>\n",
       "      <th>machine</th>\n",
       "    </tr>\n",
       "  </thead>\n",
       "  <tbody>\n",
       "    <tr>\n",
       "      <th>0</th>\n",
       "      <td>2019-11-14T11:53:35.000Z</td>\n",
       "      <td>refill</td>\n",
       "      <td>A</td>\n",
       "    </tr>\n",
       "    <tr>\n",
       "      <th>1</th>\n",
       "      <td>2019-11-14T12:06:35.000Z</td>\n",
       "      <td>coffee</td>\n",
       "      <td>A</td>\n",
       "    </tr>\n",
       "    <tr>\n",
       "      <th>2</th>\n",
       "      <td>2019-11-14T12:07:59.000Z</td>\n",
       "      <td>soda</td>\n",
       "      <td>A</td>\n",
       "    </tr>\n",
       "    <tr>\n",
       "      <th>3</th>\n",
       "      <td>2019-11-14T12:13:45.000Z</td>\n",
       "      <td>soda</td>\n",
       "      <td>A</td>\n",
       "    </tr>\n",
       "    <tr>\n",
       "      <th>4</th>\n",
       "      <td>2019-11-14T12:22:35.000Z</td>\n",
       "      <td>coffee</td>\n",
       "      <td>A</td>\n",
       "    </tr>\n",
       "    <tr>\n",
       "      <th>...</th>\n",
       "      <td>...</td>\n",
       "      <td>...</td>\n",
       "      <td>...</td>\n",
       "    </tr>\n",
       "    <tr>\n",
       "      <th>11037</th>\n",
       "      <td>2019-12-25T20:10:53.000Z</td>\n",
       "      <td>nrj</td>\n",
       "      <td>A</td>\n",
       "    </tr>\n",
       "    <tr>\n",
       "      <th>11038</th>\n",
       "      <td>2019-12-25T20:16:30.000Z</td>\n",
       "      <td>nrj</td>\n",
       "      <td>B</td>\n",
       "    </tr>\n",
       "    <tr>\n",
       "      <th>11039</th>\n",
       "      <td>2019-12-25T20:26:35.000Z</td>\n",
       "      <td>nrj</td>\n",
       "      <td>B</td>\n",
       "    </tr>\n",
       "    <tr>\n",
       "      <th>11040</th>\n",
       "      <td>2019-12-25T21:11:55.000Z</td>\n",
       "      <td>nrj</td>\n",
       "      <td>B</td>\n",
       "    </tr>\n",
       "    <tr>\n",
       "      <th>11041</th>\n",
       "      <td>2019-12-25T21:43:36.000Z</td>\n",
       "      <td>nrj</td>\n",
       "      <td>A</td>\n",
       "    </tr>\n",
       "  </tbody>\n",
       "</table>\n",
       "<p>11042 rows × 3 columns</p>\n",
       "</div>"
      ],
      "text/plain": [
       "                           date product machine\n",
       "0      2019-11-14T11:53:35.000Z  refill       A\n",
       "1      2019-11-14T12:06:35.000Z  coffee       A\n",
       "2      2019-11-14T12:07:59.000Z    soda       A\n",
       "3      2019-11-14T12:13:45.000Z    soda       A\n",
       "4      2019-11-14T12:22:35.000Z  coffee       A\n",
       "...                         ...     ...     ...\n",
       "11037  2019-12-25T20:10:53.000Z     nrj       A\n",
       "11038  2019-12-25T20:16:30.000Z     nrj       B\n",
       "11039  2019-12-25T20:26:35.000Z     nrj       B\n",
       "11040  2019-12-25T21:11:55.000Z     nrj       B\n",
       "11041  2019-12-25T21:43:36.000Z     nrj       A\n",
       "\n",
       "[11042 rows x 3 columns]"
      ]
     },
     "execution_count": 5,
     "metadata": {},
     "output_type": "execute_result"
    }
   ],
   "source": [
    "df_init"
   ]
  },
  {
   "cell_type": "code",
   "execution_count": 6,
   "id": "fb761cff",
   "metadata": {},
   "outputs": [],
   "source": [
    "df_init = df_init.sort_values(\"date\").copy()"
   ]
  },
  {
   "cell_type": "code",
   "execution_count": 7,
   "id": "7a80c0fb-b827-493c-b6c6-a21ed753f2f3",
   "metadata": {},
   "outputs": [],
   "source": [
    "items_machines = {\"item\" : [\"coffee\", \"soda\", \"nrj\"], \n",
    "                  \"prix_de_vente\" : [1, 1.6, 1.8],\n",
    "                  \"cout_achat\" : [0.3, 0.6, 0.8], \n",
    "                  \"capacite\" : [280, 120, 60]}"
   ]
  },
  {
   "cell_type": "code",
   "execution_count": 8,
   "id": "79e98a7b-483b-41f6-9c6b-c5045b2bcca7",
   "metadata": {},
   "outputs": [],
   "source": [
    "fees = {\"type_de_frais\" : [\"fixe\", \"a_ajouter_par_machine\"],\n",
    "         \"nb_machines\" : [4, 4],\n",
    "         \"deplacement_par_machine\" : [50, 20],\n",
    "         \"emplacement_mensuel\" : [0, 150],\n",
    "         \"entretien_mensuel\" : [0, 120]}"
   ]
  },
  {
   "cell_type": "code",
   "execution_count": 9,
   "id": "66789957",
   "metadata": {},
   "outputs": [
    {
     "data": {
      "text/plain": [
       "['coffee', 'soda', 'nrj']"
      ]
     },
     "execution_count": 9,
     "metadata": {},
     "output_type": "execute_result"
    }
   ],
   "source": [
    "items_machines[\"item\"]"
   ]
  },
  {
   "cell_type": "markdown",
   "id": "b28e90f2-a665-4884-a311-4264a71f976a",
   "metadata": {},
   "source": [
    "## Suivi du stock dans le temps"
   ]
  },
  {
   "cell_type": "code",
   "execution_count": 10,
   "id": "215d4950",
   "metadata": {},
   "outputs": [
    {
     "data": {
      "text/plain": [
       "array(['A', 'B', 'C', 'D'], dtype=object)"
      ]
     },
     "execution_count": 10,
     "metadata": {},
     "output_type": "execute_result"
    }
   ],
   "source": [
    "df_init[\"machine\"].unique()"
   ]
  },
  {
   "cell_type": "code",
   "execution_count": 11,
   "id": "96e93115",
   "metadata": {},
   "outputs": [],
   "source": [
    "# Création d'un df par machine\n",
    "machine_A = df_init[df_init[\"machine\"]==\"A\"].reset_index(drop=True)\n",
    "machine_B = df_init[df_init[\"machine\"]==\"B\"].reset_index(drop=True)\n",
    "machine_C = df_init[df_init[\"machine\"]==\"C\"].reset_index(drop=True)\n",
    "machine_D = df_init[df_init[\"machine\"]==\"D\"].reset_index(drop=True)"
   ]
  },
  {
   "cell_type": "code",
   "execution_count": 12,
   "id": "6239c31a",
   "metadata": {},
   "outputs": [],
   "source": [
    "# Création d'une liste avec le nom de chaque machine \n",
    "noms_des_machines = [machine_A, machine_B, machine_C, machine_D]"
   ]
  },
  {
   "cell_type": "code",
   "execution_count": 13,
   "id": "7bba449e",
   "metadata": {},
   "outputs": [
    {
     "name": "stdout",
     "output_type": "stream",
     "text": [
      "3.2644331455230713\n"
     ]
    }
   ],
   "source": [
    "start = time.time()\n",
    "for id_machine in noms_des_machines : # pour chaque machine\n",
    "    for prod in items_machines[\"item\"] : # pour chaque produit dans le dico des produits\n",
    "        id_machine[str(prod)] = 0 # création d'une colonne au nom de chaque produit et affectation de la valeur 0 par defaut\n",
    "        id_machine.loc[id_machine[\"product\"] == \"refill\", prod] = items_machines[\"capacite\"][items_machines[\"item\"].index(prod)]   \n",
    "        # ci dessus : affectatinon de la quantité maximale du produit par distributeur (définie dans le dico des produits)\n",
    "\n",
    "    for i in range(len(id_machine)) : \n",
    "        if id_machine[\"product\"].iat[i] == \"refill\" or i==0 :  # en cas de remplissage ou de la premiere ligne du df : on ne fait rien\n",
    "            continue\n",
    "        else : \n",
    "            produit_consomme = id_machine[\"product\"].iat[i]  # recupération du produit acheté/consommé\n",
    "            id_machine.iloc[i, 3:] = id_machine.iloc[i-1, 3:]    # copie des quantités en stock de la ligne précedente\n",
    "            id_machine[produit_consomme].iat[i] -=1 # -1 sur le stock du produit acheté\n",
    "print(time.time() - start)    "
   ]
  }
 ],
 "metadata": {
  "kernelspec": {
   "display_name": "Python 3 (ipykernel)",
   "language": "python",
   "name": "python3"
  },
  "language_info": {
   "codemirror_mode": {
    "name": "ipython",
    "version": 3
   },
   "file_extension": ".py",
   "mimetype": "text/x-python",
   "name": "python",
   "nbconvert_exporter": "python",
   "pygments_lexer": "ipython3",
   "version": "3.10.12"
  }
 },
 "nbformat": 4,
 "nbformat_minor": 5
}
